{
 "cells": [
  {
   "cell_type": "code",
   "execution_count": null,
   "metadata": {},
   "outputs": [],
   "source": [
    "import ROOT as r\n",
    "import array, math\n",
    "import ctypes"
   ]
  },
  {
   "cell_type": "code",
   "execution_count": null,
   "metadata": {},
   "outputs": [],
   "source": [
    "def percentiles(h):\n",
    "    quants_at = [i/10. for i in range(1,10)]\n",
    "    probs = [0 for i in range(1,10)]\n",
    "\n",
    "    a_quants_at = array.array('d', quants_at)\n",
    "    a_probs = array.array('d', probs)\n",
    "\n",
    "    aq = (ctypes.c_double * len(quants_at))(*quants_at)\n",
    "    ap = (ctypes.c_double * len(probs))(*probs)\n",
    "\n",
    "    nprob=len(quants_at)\n",
    "    h.ComputeIntegral()\n",
    "    #h.GetQuantiles(nprob, a_quants_at, a_probs)\n",
    "    h.GetQuantiles(nprob, ap, aq)\n",
    "\n",
    "    # gr = r.TGraph(nprob, a_quants_at, a_probs)\n",
    "    gr = r.TGraph(nprob, aq, ap)\n",
    "\n",
    "    print('centrality bins with', h.GetName())\n",
    "    for i in range(nprob):\n",
    "        print('{}pc@{},'.format(int(100.-aq[i]*(100.)), math.floor(ap[i])))\n",
    "    return gr"
   ]
  },
  {
   "cell_type": "code",
   "execution_count": null,
   "metadata": {},
   "outputs": [],
   "source": [
    "fin = r.TFile('h_centrality_output.root')\n",
    "h = fin.Get('h_dndeta_lores_antyr_npart')\n",
    "gr = percentiles(h)\n",
    "gr.SetLineColor(2)\n",
    "gr.SetLineStyle(1)\n",
    "gr.SetMarkerStyle(20)\n",
    "\n",
    "hnch = fin.Get('h_dndeta_lores_antyr_nch')\n",
    "grnch = percentiles(hnch)\n",
    "grnch.SetLineColor(2)\n",
    "grnch.SetLineStyle(1)\n",
    "grnch.SetMarkerStyle(24)\n",
    "\n",
    "tc = r.TCanvas('quantiles', 'quantiles')\n",
    "tc.Divide(2,2)\n",
    "tc.cd(1)\n",
    "h.Draw()\n",
    "r.gPad.SetLogy()\n",
    "tc.cd(2)\n",
    "gr.Draw('apl')\n",
    "tc.cd(3)\n",
    "hnch.Draw()\n",
    "r.gPad.SetLogy()\n",
    "tc.cd(4)\n",
    "grnch.Draw('apl')\n",
    "\n",
    "\n",
    "tc.Draw()\n",
    "tc.Show()"
   ]
  }
 ],
 "metadata": {
  "kernelspec": {
   "display_name": "Python 3",
   "language": "python",
   "name": "python3"
  },
  "language_info": {
   "codemirror_mode": {
    "name": "ipython",
    "version": 3
   },
   "file_extension": ".py",
   "mimetype": "text/x-python",
   "name": "python",
   "nbconvert_exporter": "python",
   "pygments_lexer": "ipython3",
   "version": "3.7.7"
  }
 },
 "nbformat": 4,
 "nbformat_minor": 4
}
