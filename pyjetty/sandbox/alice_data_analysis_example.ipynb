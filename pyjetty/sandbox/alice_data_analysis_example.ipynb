{
 "cells": [
  {
   "cell_type": "code",
   "execution_count": 1,
   "id": "moved-chemical",
   "metadata": {},
   "outputs": [
    {
     "name": "stdout",
     "output_type": "stream",
     "text": [
      "Welcome to JupyROOT 6.22/08\n"
     ]
    }
   ],
   "source": [
    "import uproot\n",
    "import pandas as pd\n",
    "import fastjet as fj\n",
    "import fjcontrib\n",
    "import fjext\n",
    "import os\n",
    "from pyjetty.mputils import perror, pwarning, pinfo, pdebug\n",
    "from pyjetty.mputils import treewriter\n",
    "from tqdm.notebook import tqdm\n",
    "import ROOT"
   ]
  },
  {
   "cell_type": "markdown",
   "id": "meaning-oxford",
   "metadata": {},
   "source": [
    "# An example analysis of ALICE data file - in a class\n",
    "\n",
    "This class hass a few features:\n",
    "- open an output file in the contructor (define the output - tree in this case) - in the `.init_output()`\n",
    "- for each file one can call `.analyze_file(<input_file_path>)`\n",
    "- at the end one has to call `.finish()` to write to the output file properly\n",
    "- now the analysis is implemented in the `.analyze_event()`\n",
    "\n",
    "So the short code looks like:\n",
    "```\n",
    "an = AnalyzeDataFile('output.root')\n",
    "an.analyze_file('some_alice_input_file.root')\n",
    "an.analyze_file('some_other_alice_input_file.root')\n",
    "...\n",
    "an.finish()\n",
    "```"
   ]
  },
  {
   "cell_type": "code",
   "execution_count": 2,
   "id": "honest-imagination",
   "metadata": {},
   "outputs": [],
   "source": [
    "class AnalyzeDataFile(object):\n",
    "    def __init__(self, output_filename):\n",
    "        self.event_tree_name = 'PWGHF_TreeCreator/tree_event_char'\n",
    "        self.track_tree_name = 'PWGHF_TreeCreator/tree_Particle'\n",
    "        if not self.init_output(output_filename):\n",
    "            perror('unable to initialize with', output_filename, 'file as output.')\n",
    "            return\n",
    "        \n",
    "    def get_pandas_from_a_file_with_query(self, file_name, tree_name, squery=None):\n",
    "        try:\n",
    "            tree = uproot.open(file_name)[tree_name]\n",
    "        except:\n",
    "            pwarning('error getting', tree_name, 'from file:', file_name)\n",
    "            return None\n",
    "        if not tree:\n",
    "            perror('tree {} not found in file {}'.format(tree_name, file_name))\n",
    "            return None\n",
    "        if uproot.version.version_info[0] == '4':\n",
    "            df = tree.arrays(library=\"pd\")\n",
    "        else:\n",
    "            df = tree.pandas.df()\n",
    "        if squery:\n",
    "            #df.query(squery, inplace=True)\n",
    "            df = df.query(squery)\n",
    "            df.reset_index(drop=True)\n",
    "        return df\n",
    "    \n",
    "    def analyze_file(self, input_filename):\n",
    "        if not os.path.isfile(input_filename):\n",
    "            perror('file', output_filename, 'does not exists.')\n",
    "            return\n",
    "        _event_df = self.get_pandas_from_a_file_with_query(input_filename, self.event_tree_name, 'is_ev_rej == 0')\n",
    "        if _event_df is None:\n",
    "            perror('unable to continue...')\n",
    "            return\n",
    "        _track_df_unmerged = self.get_pandas_from_a_file_with_query(input_filename, self.track_tree_name)\n",
    "        if _track_df_unmerged is None:\n",
    "            perror('unable to continue...')\n",
    "            return\n",
    "        # Merge event info into track tree\n",
    "        if 'ev_id_ext' in list(_event_df):\n",
    "            _track_df = pd.merge(_track_df_unmerged, _event_df, on=['run_number', 'ev_id', 'ev_id_ext'])\n",
    "        else:\n",
    "            # older data formats - should not be used\n",
    "            pwarning('using the old data format - without ev_id_ext ...')\n",
    "            _track_df = pd.merge(_track_df_unmerged, _event_df, on=['run_number', 'ev_id'])\n",
    "        # group the track dataframe by event\n",
    "        # track_df_grouped is a DataFrameGroupBy object with one track dataframe per event\n",
    "        _track_df_grouped = _track_df.groupby(['run_number','ev_id'])\n",
    "        # transform -> analyze the \"events==dataframes\" \n",
    "        # use a progress bar\n",
    "        self.pbar = tqdm(range(len(_track_df_grouped)))\n",
    "        _ = _track_df_grouped.apply(self.analyze_event)\n",
    "        self.pbar.close()\n",
    "\n",
    "    def get_unique_fname(fn):\n",
    "        counter = 0\n",
    "        outfn = fn.replace('.root', '_{}.root'.format(counter))\n",
    "        while os.path.exists(outfn):\n",
    "            counter += 1\n",
    "            outfn = fn.replace('.root', '_{}.root'.format(counter))\n",
    "        return outfn\n",
    "\n",
    "    def init_output(self, output_filename):\n",
    "        self.output_filename = output_filename\n",
    "        self.output_tree = treewriter.RTreeWriter(name = 'jets', file_name = self.output_filename)\n",
    "        if self.output_tree:\n",
    "            return True\n",
    "        return False\n",
    "        \n",
    "    def analyze_event(self, df):\n",
    "        #df here is a merged dataframe from the event and track trees\n",
    "        self.pbar.update(1)\n",
    "\n",
    "        #make FastJet PseudoJet vectors from tracks describbed by Pt,Eta,Phi \n",
    "        _particles = fjext.vectorize_pt_eta_phi(df['ParticlePt'].values, df['ParticleEta'].values, df['ParticlePhi'].values)\n",
    "\n",
    "        #define a jet finder on the event\n",
    "        jet_R0 = 0.4\n",
    "        jet_definition = fj.JetDefinition(fj.antikt_algorithm, jet_R0)\n",
    "        # select jets in a pT window and fully contained within ALICE acceptance (eta tracks < 0.9)\n",
    "        jet_selector = fj.SelectorPtMin(10.0) & fj.SelectorPtMax(1000.0) & fj.SelectorAbsEtaMax(0.9 - jet_R0)\n",
    "        # get jets == actually run the jet finder\n",
    "        jets = fj.sorted_by_pt(jet_selector(jet_definition(_particles)))        \n",
    "        #define a soft drop algorithm\n",
    "        sd01 = fjcontrib.SoftDrop(0, 0.1, 1.0)\n",
    "        \n",
    "        # do something for each jet\n",
    "        for j in jets:\n",
    "            # get the jet after soft drop\n",
    "            j_sd01 = sd01.result(j)\n",
    "            # get the kinematics of the soft drop selected split\n",
    "            j_sd01_info = fjcontrib.get_SD_jet_info(j_sd01)\n",
    "            # stream to the output tree\n",
    "            self.output_tree.fill_branches( j       = j,\n",
    "                                            j_sd01  = j_sd01, \n",
    "                                            j_sd01_z  = j_sd01_info.z, \n",
    "                                            j_sd01_mu = j_sd01_info.mu, \n",
    "                                            j_sd01_Rg = j_sd01_info.dR)\n",
    "            self.output_tree.fill_tree()\n",
    "            \n",
    "    def finish(self):\n",
    "        # need to call to close the output file properly\n",
    "        self.output_tree.write_and_close()\n"
   ]
  },
  {
   "cell_type": "code",
   "execution_count": 3,
   "id": "numerical-antibody",
   "metadata": {},
   "outputs": [
    {
     "name": "stdout",
     "output_type": "stream",
     "text": [
      "[i] new file alice_data_analysis_output.root\n"
     ]
    }
   ],
   "source": [
    "an_data_file = AnalyzeDataFile('alice_data_analysis_output.root')"
   ]
  },
  {
   "cell_type": "code",
   "execution_count": 4,
   "id": "modified-irish",
   "metadata": {},
   "outputs": [
    {
     "name": "stderr",
     "output_type": "stream",
     "text": [
      "\u001b[93m[w] using the old data format - without ev_id_ext ...\u001b[00m\n"
     ]
    },
    {
     "data": {
      "application/vnd.jupyter.widget-view+json": {
       "model_id": "931246784f854bacae12c46bdd981647",
       "version_major": 2,
       "version_minor": 0
      },
      "text/plain": [
       "  0%|          | 0/899 [00:00<?, ?it/s]"
      ]
     },
     "metadata": {},
     "output_type": "display_data"
    },
    {
     "name": "stdout",
     "output_type": "stream",
     "text": [
      "[i] RTreeWriter jets tree tjets: creating branch [j_pt]\n",
      "[i] RTreeWriter jets tree tjets: creating branch [j_phi]\n",
      "[i] RTreeWriter jets tree tjets: creating branch [j_eta]\n",
      "[i] RTreeWriter jets tree tjets: creating branch [j_m]\n",
      "[i] RTreeWriter jets tree tjets: creating branch [j_nconst]\n",
      "[i] RTreeWriter jets tree tjets: creating branch [j_sd01_pt]\n",
      "[i] RTreeWriter jets tree tjets: creating branch [j_sd01_phi]\n",
      "[i] RTreeWriter jets tree tjets: creating branch [j_sd01_eta]\n",
      "[i] RTreeWriter jets tree tjets: creating branch [j_sd01_m]\n",
      "[i] RTreeWriter jets tree tjets: creating branch [j_sd01_nconst]\n",
      "[i] RTreeWriter jets tree tjets: creating branch [j_sd01_z]\n",
      "[i] RTreeWriter jets tree tjets: creating branch [j_sd01_mu]\n",
      "[i] RTreeWriter jets tree tjets: creating branch [j_sd01_Rg]\n",
      "#--------------------------------------------------------------------------\n",
      "#                         FastJet release 3.3.3\n",
      "#                 M. Cacciari, G.P. Salam and G. Soyez                  \n",
      "#     A software package for jet finding and analysis at colliders      \n",
      "#                           http://fastjet.fr                           \n",
      "#\t                                                                      \n",
      "# Please cite EPJC72(2012)1896 [arXiv:1111.6097] if you use this package\n",
      "# for scientific work and optionally PLB641(2006)57 [hep-ph/0512210].   \n",
      "#                                                                       \n",
      "# FastJet is provided without warranty under the GNU GPL v2 or higher.  \n",
      "# It uses T. Chan's closest pair algorithm, S. Fortune's Voronoi code\n",
      "# and 3rd party plugin jet algorithms. See COPYING file for details.\n",
      "#--------------------------------------------------------------------------\n"
     ]
    }
   ],
   "source": [
    "fname = '/Users/ploskon/data/alice/LHC18qr/__rstorage__u__alice__LHC18qr__147-148__147__child_1__0019__AnalysisResults.root'\n",
    "an_data_file.analyze_file(fname)"
   ]
  },
  {
   "cell_type": "code",
   "execution_count": 5,
   "id": "spoken-contest",
   "metadata": {},
   "outputs": [
    {
     "name": "stdout",
     "output_type": "stream",
     "text": [
      "[i] writing alice_data_analysis_output.root\n"
     ]
    }
   ],
   "source": [
    "an_data_file.finish()"
   ]
  },
  {
   "cell_type": "code",
   "execution_count": 6,
   "id": "scientific-thanksgiving",
   "metadata": {},
   "outputs": [
    {
     "data": {
      "image/png": "[encoded data removed]",
      "text/plain": [
       "<IPython.core.display.Image object>"
      ]
     },
     "metadata": {},
     "output_type": "display_data"
    }
   ],
   "source": [
    "#analyze the output file\n",
    "# %jsroot on\n",
    "tc = ROOT.TCanvas('somehist', 'somehist')\n",
    "tc.cd()\n",
    "fin = ROOT.TFile('alice_data_analysis_output.root')\n",
    "tjets = fin.Get('tjets')\n",
    "htmp = ROOT.TH2F('htmp', 'htmp', 20,0,1,100,0,200)\n",
    "tjets.Draw('j_pt:j_sd01_Rg/0.4>>htmp')\n",
    "htmp.Draw('colz')\n",
    "tc.SetLogz()\n",
    "tc.Draw()"
   ]
  },
  {
   "cell_type": "code",
   "execution_count": null,
   "id": "social-diesel",
   "metadata": {},
   "outputs": [],
   "source": []
  },
  {
   "cell_type": "code",
   "execution_count": null,
   "id": "short-fourth",
   "metadata": {},
   "outputs": [],
   "source": []
  }
 ],
 "metadata": {
  "kernelspec": {
   "display_name": "Python 3",
   "language": "python",
   "name": "python3"
  },
  "language_info": {
   "codemirror_mode": {
    "name": "ipython",
    "version": 3
   },
   "file_extension": ".py",
   "mimetype": "text/x-python",
   "name": "python",
   "nbconvert_exporter": "python",
   "pygments_lexer": "ipython3",
   "version": "3.9.6"
  }
 },
 "nbformat": 4,
 "nbformat_minor": 5
}
