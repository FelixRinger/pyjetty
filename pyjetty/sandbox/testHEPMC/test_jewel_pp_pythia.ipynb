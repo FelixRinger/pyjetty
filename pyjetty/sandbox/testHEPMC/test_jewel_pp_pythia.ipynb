{
 "cells": [
  {
   "cell_type": "code",
   "execution_count": null,
   "id": "0b5a7f8d",
   "metadata": {},
   "outputs": [],
   "source": [
    "import fastjet as fj\n",
    "jet_R0 = 0.4\n",
    "jet_def = fj.JetDefinition(fj.antikt_algorithm, jet_R0)\n",
    "print(jet_def)\n",
    "max_eta_hadron=1\n",
    "parts_selector_h = fj.SelectorAbsEtaMax(max_eta_hadron)\n",
    "jet_selector = fj.SelectorAbsEtaMax(max_eta_hadron - jet_R0 * 1.05)"
   ]
  },
  {
   "cell_type": "code",
   "execution_count": null,
   "id": "bfbe6e8a",
   "metadata": {},
   "outputs": [],
   "source": [
    "import hepmc2wrap\n",
    "hepmcfile='/rstorage/ml/egml/data/jewel_pp/686906/1/jewel.hepmc'"
   ]
  },
  {
   "cell_type": "code",
   "execution_count": null,
   "id": "d2e10e5c",
   "metadata": {},
   "outputs": [],
   "source": [
    "from pyjetty.mputils import find_files\n",
    "files = find_files('/rstorage/ml/egml/data/jewel_pp', '*.hepmc')\n",
    "print('[i] found {} files'.format(len(files)))"
   ]
  },
  {
   "cell_type": "code",
   "execution_count": null,
   "id": "f30395f5",
   "metadata": {},
   "outputs": [],
   "source": [
    "from tqdm.notebook import tqdm\n",
    "jets = []\n",
    "for hepmcile in tqdm(files[:3]):\n",
    "    input_hepmc = hepmc2wrap.ReadHepMCFile(hepmcfile)\n",
    "    final = True\n",
    "    while input_hepmc.NextEvent():\n",
    "        fjparts = []\n",
    "        parts = input_hepmc.HepMCParticles(final)\n",
    "        for part in parts:\n",
    "            pid = part.pdg_id()\n",
    "            psj = fj.PseudoJet(part.momentum().px(), part.momentum().py(), part.momentum().pz(), part.momentum().e())\n",
    "            fjparts.append(psj)\n",
    "            fjparts_sel = parts_selector_h(fjparts)\n",
    "        # print('mult:', len(parts), len(fjparts_sel))\n",
    "        _ = [jets.append(j) for j in jet_selector(jet_def(fjparts_sel))]"
   ]
  },
  {
   "cell_type": "code",
   "execution_count": null,
   "id": "13b2046b",
   "metadata": {},
   "outputs": [],
   "source": [
    "import matplotlib.pyplot as plt"
   ]
  },
  {
   "cell_type": "code",
   "execution_count": null,
   "id": "ae9b975d",
   "metadata": {},
   "outputs": [],
   "source": [
    "def plot_jets(jets):\n",
    "    n, bins, patches = plt.hist([j.pt() for j in jets], 10, density=1, facecolor='g', alpha=0.75, log=True)\n",
    "    plt.ylabel('probability density')\n",
    "    plt.show()\n",
    "    zs = []\n",
    "    njets = 0\n",
    "    for j in jets:\n",
    "        if j.pt() > 200 and j.pt() <  250:\n",
    "            for c in j.constituents():\n",
    "                zs.append(c.pt() / j.pt())\n",
    "            njets = njets + 1\n",
    "    n, bins, patches = plt.hist(zs, 10, density=True, facecolor='r', alpha=0.75, log=True)\n",
    "    plt.ylabel('probability density')\n",
    "    plt.show()\n",
    "    return njets, zs"
   ]
  },
  {
   "cell_type": "code",
   "execution_count": null,
   "id": "4a9f2853",
   "metadata": {},
   "outputs": [],
   "source": [
    "njets_hepmc, zs_hepmc = plot_jets(jets)"
   ]
  },
  {
   "cell_type": "code",
   "execution_count": null,
   "id": "42a92495",
   "metadata": {},
   "outputs": [],
   "source": [
    "import pythia_init_util as pyut\n",
    "import pythiafjext"
   ]
  },
  {
   "cell_type": "code",
   "execution_count": null,
   "id": "4becce0b",
   "metadata": {},
   "outputs": [],
   "source": [
    "pythia = pyut.pythia_init_from_string(\"--py-ecm 5000 --user-seed=100000 --nev 1000 --py-pthatmin 200 --py-hardQCD\")"
   ]
  },
  {
   "cell_type": "code",
   "execution_count": null,
   "id": "d3cb70ee",
   "metadata": {},
   "outputs": [],
   "source": [
    "pyjets = []\n",
    "for n in tqdm(range(1000)):\n",
    "    if not pythia.next():\n",
    "        continue\n",
    "    parts_pythia_h = parts_selector_h(pythiafjext.vectorize_select(pythia, [pythiafjext.kFinal], 0, False))\n",
    "    jets_h = fj.sorted_by_pt(jet_selector(jet_def(parts_pythia_h)))\n",
    "    _ = [pyjets.append(j) for j in jets_h]"
   ]
  },
  {
   "cell_type": "code",
   "execution_count": null,
   "id": "b04373bc",
   "metadata": {
    "scrolled": false
   },
   "outputs": [],
   "source": [
    "njets_pythia, zs_pythia = plot_jets(pyjets)"
   ]
  },
  {
   "cell_type": "code",
   "execution_count": null,
   "id": "f6cc9b9d",
   "metadata": {},
   "outputs": [],
   "source": [
    "n, bins, patches = plt.hist([zs_hepmc, zs_pythia], \n",
    "                            20, \n",
    "                            label=['HEPMC', 'PYTHIA8'],\n",
    "                            density=[True, True], \n",
    "                            alpha=0.75, log=True, histtype='step')\n",
    "plt.ylabel('probability density')\n",
    "plt.xlabel('z')\n",
    "plt.title('jets 200-250 GeV/c')\n",
    "plt.legend()\n",
    "plt.show()"
   ]
  }
 ],
 "metadata": {
  "kernelspec": {
   "display_name": "Python 3",
   "language": "python",
   "name": "python3"
  },
  "language_info": {
   "codemirror_mode": {
    "name": "ipython",
    "version": 3
   },
   "file_extension": ".py",
   "mimetype": "text/x-python",
   "name": "python",
   "nbconvert_exporter": "python",
   "pygments_lexer": "ipython3",
   "version": "3.6.8"
  }
 },
 "nbformat": 4,
 "nbformat_minor": 5
}
