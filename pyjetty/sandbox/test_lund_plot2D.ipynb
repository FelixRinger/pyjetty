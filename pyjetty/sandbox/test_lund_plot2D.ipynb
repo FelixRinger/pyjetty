{
 "cells": [
  {
   "cell_type": "code",
   "execution_count": 5,
   "metadata": {},
   "outputs": [],
   "source": [
    "import fastjet as fj\n",
    "import pythia8\n",
    "from recursivetools import pyrecursivetools as rt\n",
    "from lundplane import pylundplane as lund\n",
    "from pythiafjtools import pypythiafjtools as pyfj\n",
    "import math\n",
    "%matplotlib inline\n",
    "import matplotlib.pyplot as plt\n",
    "import seaborn as sns\n",
    "sns.set_context('notebook')\n",
    "%config InlineBackend.figure_format = 'retina'\n",
    "from tqdm import tnrange, tqdm_notebook\n",
    "import joblib\n",
    "import os"
   ]
  },
  {
   "cell_type": "code",
   "execution_count": 6,
   "metadata": {},
   "outputs": [],
   "source": [
    "def deltas(jets, jets0):\n",
    "    for i in range(len(jets)):\n",
    "        yield jets0[i].perp() - jets[i].perp()\n",
    "\n",
    "def create_and_init_pythia(config_strings=[]):\n",
    "    pythia = pythia8.Pythia()\n",
    "    for s in config_strings:\n",
    "        pythia.readString(s)\n",
    "    for extra_s in [\"Next:numberShowEvent = 0\", \"Next:numberShowInfo = 0\", \"Next:numberShowProcess = 0\"]:\n",
    "        pythia.readString(extra_s)\n",
    "    if pythia.init():\n",
    "        return pythia\n",
    "    return None\n",
    "\n",
    "sconfig_pythia = [ \"Beams:eCM = 8000.\", \"HardQCD:all = on\", \"PhaseSpace:pTHatMin = 100.\"]\n",
    "pythia = create_and_init_pythia(sconfig_pythia)\n",
    "\n",
    "# set up our jet definition and a jet selector\n",
    "jet_R0 = 0.4\n",
    "jet_def = fj.JetDefinition(fj.antikt_algorithm, jet_R0)\n",
    "jet_selector = fj.SelectorPtMin(100.0) & fj.SelectorPtMax(200.0) & fj.SelectorAbsEtaMax(1)\n",
    "sd = rt.SoftDrop(0, 0.1, 1.0)"
   ]
  },
  {
   "cell_type": "code",
   "execution_count": 7,
   "metadata": {},
   "outputs": [
    {
     "data": {
      "application/vnd.jupyter.widget-view+json": {
       "model_id": "3ed415e622db4a5e95db5efa06442b50",
       "version_major": 2,
       "version_minor": 0
      },
      "text/plain": [
       "HBox(children=(IntProgress(value=0, description='event', max=10000, style=ProgressStyle(description_width='ini…"
      ]
     },
     "metadata": {},
     "output_type": "display_data"
    },
    {
     "name": "stdout",
     "output_type": "stream",
     "text": [
      "\n"
     ]
    }
   ],
   "source": [
    "all_jets = []\n",
    "for iEvent in tqdm_notebook(range(10000), 'event'):\n",
    "    if not pythia.next(): continue\n",
    "    parts = pyfj.vectorize(pythia, True, -1, 1, False)\n",
    "    jets = jet_selector(jet_def(parts))\n",
    "    all_jets.extend(jets)"
   ]
  },
  {
   "cell_type": "code",
   "execution_count": 8,
   "metadata": {},
   "outputs": [],
   "source": [
    "jet_def_lund = fj.JetDefinition(fj.cambridge_algorithm, 1.0)\n",
    "lund_gen = lund.LundGenerator(jet_def_lund)"
   ]
  },
  {
   "cell_type": "code",
   "execution_count": 9,
   "metadata": {},
   "outputs": [
    {
     "name": "stdout",
     "output_type": "stream",
     "text": [
      "CPU times: user 132 ms, sys: 20.1 ms, total: 152 ms\n",
      "Wall time: 152 ms\n"
     ]
    }
   ],
   "source": [
    "%%time\n",
    "lunds = [lund_gen.result(j) for j in all_jets]"
   ]
  },
  {
   "cell_type": "code",
   "execution_count": 10,
   "metadata": {},
   "outputs": [
    {
     "name": "stdout",
     "output_type": "stream",
     "text": [
      "CPU times: user 111 ms, sys: 2.62 ms, total: 113 ms\n",
      "Wall time: 113 ms\n"
     ]
    }
   ],
   "source": [
    "%%time\n",
    "log_kt = []\n",
    "log_1oDelta = []\n",
    "for l in lunds:\n",
    "    for s in l:\n",
    "        log_kt.append(math.log(s.kt()))\n",
    "        log_1oDelta.append(math.log(1./s.Delta()))"
   ]
  },
  {
   "cell_type": "code",
   "execution_count": 11,
   "metadata": {},
   "outputs": [
    {
     "data": {
      "text/plain": [
       "(array([[0., 0., 0., ..., 0., 0., 0.],\n",
       "        [0., 0., 0., ..., 1., 0., 0.],\n",
       "        [0., 0., 0., ..., 2., 0., 0.],\n",
       "        ...,\n",
       "        [0., 0., 0., ..., 0., 0., 0.],\n",
       "        [0., 0., 0., ..., 0., 0., 0.],\n",
       "        [0., 0., 0., ..., 0., 0., 0.]]),\n",
       " array([0.66392995, 0.7503647 , 0.83679944, 0.92323419, 1.00966893,\n",
       "        1.09610368, 1.18253843, 1.26897317, 1.35540792, 1.44184267,\n",
       "        1.52827741, 1.61471216, 1.7011469 , 1.78758165, 1.8740164 ,\n",
       "        1.96045114, 2.04688589, 2.13332063, 2.21975538, 2.30619013,\n",
       "        2.39262487, 2.47905962, 2.56549436, 2.65192911, 2.73836386,\n",
       "        2.8247986 , 2.91123335, 2.9976681 , 3.08410284, 3.17053759,\n",
       "        3.25697233, 3.34340708, 3.42984183, 3.51627657, 3.60271132,\n",
       "        3.68914606, 3.77558081, 3.86201556, 3.9484503 , 4.03488505,\n",
       "        4.1213198 , 4.20775454, 4.29418929, 4.38062403, 4.46705878,\n",
       "        4.55349353, 4.63992827, 4.72636302, 4.81279776, 4.89923251,\n",
       "        4.98566726, 5.072102  , 5.15853675, 5.24497149, 5.33140624,\n",
       "        5.41784099, 5.50427573, 5.59071048, 5.67714523, 5.76357997,\n",
       "        5.85001472, 5.93644946, 6.02288421, 6.10931896, 6.1957537 ,\n",
       "        6.28218845, 6.36862319, 6.45505794, 6.54149269, 6.62792743,\n",
       "        6.71436218, 6.80079693, 6.88723167, 6.97366642, 7.06010116,\n",
       "        7.14653591, 7.23297066, 7.3194054 , 7.40584015, 7.49227489,\n",
       "        7.57870964, 7.66514439, 7.75157913, 7.83801388, 7.92444863,\n",
       "        8.01088337, 8.09731812, 8.18375286, 8.27018761, 8.35662236,\n",
       "        8.4430571 , 8.52949185, 8.61592659, 8.70236134, 8.78879609,\n",
       "        8.87523083, 8.96166558, 9.04810032, 9.13453507, 9.22096982,\n",
       "        9.30740456]),\n",
       " array([-8.16829055, -8.05243682, -7.93658309, -7.82072936, -7.70487563,\n",
       "        -7.5890219 , -7.47316817, -7.35731444, -7.2414607 , -7.12560697,\n",
       "        -7.00975324, -6.89389951, -6.77804578, -6.66219205, -6.54633832,\n",
       "        -6.43048459, -6.31463086, -6.19877713, -6.0829234 , -5.96706966,\n",
       "        -5.85121593, -5.7353622 , -5.61950847, -5.50365474, -5.38780101,\n",
       "        -5.27194728, -5.15609355, -5.04023982, -4.92438609, -4.80853236,\n",
       "        -4.69267862, -4.57682489, -4.46097116, -4.34511743, -4.2292637 ,\n",
       "        -4.11340997, -3.99755624, -3.88170251, -3.76584878, -3.64999505,\n",
       "        -3.53414132, -3.41828758, -3.30243385, -3.18658012, -3.07072639,\n",
       "        -2.95487266, -2.83901893, -2.7231652 , -2.60731147, -2.49145774,\n",
       "        -2.37560401, -2.25975028, -2.14389654, -2.02804281, -1.91218908,\n",
       "        -1.79633535, -1.68048162, -1.56462789, -1.44877416, -1.33292043,\n",
       "        -1.2170667 , -1.10121297, -0.98535923, -0.8695055 , -0.75365177,\n",
       "        -0.63779804, -0.52194431, -0.40609058, -0.29023685, -0.17438312,\n",
       "        -0.05852939,  0.05732434,  0.17317807,  0.28903181,  0.40488554,\n",
       "         0.52073927,  0.636593  ,  0.75244673,  0.86830046,  0.98415419,\n",
       "         1.10000792,  1.21586165,  1.33171538,  1.44756911,  1.56342285,\n",
       "         1.67927658,  1.79513031,  1.91098404,  2.02683777,  2.1426915 ,\n",
       "         2.25854523,  2.37439896,  2.49025269,  2.60610642,  2.72196015,\n",
       "         2.83781389,  2.95366762,  3.06952135,  3.18537508,  3.30122881,\n",
       "         3.41708254]),\n",
       " <matplotlib.collections.QuadMesh at 0x1228c3048>)"
      ]
     },
     "execution_count": 11,
     "metadata": {},
     "output_type": "execute_result"
    },
    {
     "data": {
      "image/png": "[encoded data removed]",
      "text/plain": [
       "<Figure size 432x288 with 1 Axes>"
      ]
     },
     "metadata": {
      "image/png": {
       "height": 251,
       "width": 374
      },
      "needs_background": "light"
     },
     "output_type": "display_data"
    }
   ],
   "source": [
    "plt.hist2d(log_1oDelta, log_kt, bins=100)"
   ]
  },
  {
   "cell_type": "code",
   "execution_count": 12,
   "metadata": {},
   "outputs": [
    {
     "data": {
      "text/plain": [
       "(array([[0., 0., 0., ..., 0., 0., 0.],\n",
       "        [0., 0., 0., ..., 1., 0., 0.],\n",
       "        [0., 0., 0., ..., 2., 0., 0.],\n",
       "        ...,\n",
       "        [0., 0., 0., ..., 0., 0., 0.],\n",
       "        [0., 0., 0., ..., 0., 0., 0.],\n",
       "        [0., 0., 0., ..., 0., 0., 0.]]),\n",
       " array([0.66392995, 0.7503647 , 0.83679944, 0.92323419, 1.00966893,\n",
       "        1.09610368, 1.18253843, 1.26897317, 1.35540792, 1.44184267,\n",
       "        1.52827741, 1.61471216, 1.7011469 , 1.78758165, 1.8740164 ,\n",
       "        1.96045114, 2.04688589, 2.13332063, 2.21975538, 2.30619013,\n",
       "        2.39262487, 2.47905962, 2.56549436, 2.65192911, 2.73836386,\n",
       "        2.8247986 , 2.91123335, 2.9976681 , 3.08410284, 3.17053759,\n",
       "        3.25697233, 3.34340708, 3.42984183, 3.51627657, 3.60271132,\n",
       "        3.68914606, 3.77558081, 3.86201556, 3.9484503 , 4.03488505,\n",
       "        4.1213198 , 4.20775454, 4.29418929, 4.38062403, 4.46705878,\n",
       "        4.55349353, 4.63992827, 4.72636302, 4.81279776, 4.89923251,\n",
       "        4.98566726, 5.072102  , 5.15853675, 5.24497149, 5.33140624,\n",
       "        5.41784099, 5.50427573, 5.59071048, 5.67714523, 5.76357997,\n",
       "        5.85001472, 5.93644946, 6.02288421, 6.10931896, 6.1957537 ,\n",
       "        6.28218845, 6.36862319, 6.45505794, 6.54149269, 6.62792743,\n",
       "        6.71436218, 6.80079693, 6.88723167, 6.97366642, 7.06010116,\n",
       "        7.14653591, 7.23297066, 7.3194054 , 7.40584015, 7.49227489,\n",
       "        7.57870964, 7.66514439, 7.75157913, 7.83801388, 7.92444863,\n",
       "        8.01088337, 8.09731812, 8.18375286, 8.27018761, 8.35662236,\n",
       "        8.4430571 , 8.52949185, 8.61592659, 8.70236134, 8.78879609,\n",
       "        8.87523083, 8.96166558, 9.04810032, 9.13453507, 9.22096982,\n",
       "        9.30740456]),\n",
       " array([-8.16829055, -8.05243682, -7.93658309, -7.82072936, -7.70487563,\n",
       "        -7.5890219 , -7.47316817, -7.35731444, -7.2414607 , -7.12560697,\n",
       "        -7.00975324, -6.89389951, -6.77804578, -6.66219205, -6.54633832,\n",
       "        -6.43048459, -6.31463086, -6.19877713, -6.0829234 , -5.96706966,\n",
       "        -5.85121593, -5.7353622 , -5.61950847, -5.50365474, -5.38780101,\n",
       "        -5.27194728, -5.15609355, -5.04023982, -4.92438609, -4.80853236,\n",
       "        -4.69267862, -4.57682489, -4.46097116, -4.34511743, -4.2292637 ,\n",
       "        -4.11340997, -3.99755624, -3.88170251, -3.76584878, -3.64999505,\n",
       "        -3.53414132, -3.41828758, -3.30243385, -3.18658012, -3.07072639,\n",
       "        -2.95487266, -2.83901893, -2.7231652 , -2.60731147, -2.49145774,\n",
       "        -2.37560401, -2.25975028, -2.14389654, -2.02804281, -1.91218908,\n",
       "        -1.79633535, -1.68048162, -1.56462789, -1.44877416, -1.33292043,\n",
       "        -1.2170667 , -1.10121297, -0.98535923, -0.8695055 , -0.75365177,\n",
       "        -0.63779804, -0.52194431, -0.40609058, -0.29023685, -0.17438312,\n",
       "        -0.05852939,  0.05732434,  0.17317807,  0.28903181,  0.40488554,\n",
       "         0.52073927,  0.636593  ,  0.75244673,  0.86830046,  0.98415419,\n",
       "         1.10000792,  1.21586165,  1.33171538,  1.44756911,  1.56342285,\n",
       "         1.67927658,  1.79513031,  1.91098404,  2.02683777,  2.1426915 ,\n",
       "         2.25854523,  2.37439896,  2.49025269,  2.60610642,  2.72196015,\n",
       "         2.83781389,  2.95366762,  3.06952135,  3.18537508,  3.30122881,\n",
       "         3.41708254]),\n",
       " <matplotlib.collections.QuadMesh at 0x122f9fc88>)"
      ]
     },
     "execution_count": 12,
     "metadata": {},
     "output_type": "execute_result"
    },
    {
     "data": {
      "image/png": "[encoded data removed]",
      "text/plain": [
       "<Figure size 432x288 with 1 Axes>"
      ]
     },
     "metadata": {
      "image/png": {
       "height": 251,
       "width": 374
      },
      "needs_background": "light"
     },
     "output_type": "display_data"
    }
   ],
   "source": [
    "if not os.path.exists('test_lund_2d.joblib'):\n",
    "    joblib.dump([log_1oDelta, log_kt], 'test_lund_2d.joblib') \n",
    "xy = joblib.load('test_lund_2d.joblib')\n",
    "plt.hist2d(xy[0], xy[1], bins=100)"
   ]
  },
  {
   "cell_type": "code",
   "execution_count": null,
   "metadata": {},
   "outputs": [],
   "source": []
  }
 ],
 "metadata": {
  "kernelspec": {
   "display_name": "Python 3",
   "language": "python",
   "name": "python3"
  },
  "language_info": {
   "codemirror_mode": {
    "name": "ipython",
    "version": 3
   },
   "file_extension": ".py",
   "mimetype": "text/x-python",
   "name": "python",
   "nbconvert_exporter": "python",
   "pygments_lexer": "ipython3",
   "version": "3.7.3"
  }
 },
 "nbformat": 4,
 "nbformat_minor": 2
}
