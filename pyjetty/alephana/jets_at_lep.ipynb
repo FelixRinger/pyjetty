{
 "cells": [
  {
   "cell_type": "code",
   "execution_count": null,
   "id": "mature-scale",
   "metadata": {},
   "outputs": [],
   "source": [
    "import ROOT"
   ]
  },
  {
   "cell_type": "code",
   "execution_count": null,
   "id": "digital-container",
   "metadata": {},
   "outputs": [],
   "source": [
    "import fastjet as fj\n",
    "import fjext\n",
    "import fjcontrib\n",
    "\n",
    "import pythia8\n",
    "import pythiafjext\n",
    "import pythiaext"
   ]
  },
  {
   "cell_type": "code",
   "execution_count": null,
   "id": "identified-mercury",
   "metadata": {},
   "outputs": [],
   "source": [
    "# Generator.\n",
    "pythia = pythia8.Pythia()\n",
    "extra_s = [\"Next:numberCount = 0\", \"Next:numberShowEvent = 0\", \"Next:numberShowInfo = 0\", \"Next:numberShowProcess = 0\", \"Stat:showProcessLevel = on\"]\n",
    "for s in extra_s:\n",
    "    pythia.readString(s)\n",
    "# Allow no substructure in e+- beams: normal for corrected LEP data.\n",
    "pythia.readString(\"PDF:lepton = off\")\n",
    "# Process selection.\n",
    "pythia.readString(\"WeakSingleBoson:ffbar2gmZ = on\")\n",
    "# Switch off all Z0 decays and then switch back on those to quarks.\n",
    "pythia.readString(\"23:onMode = off\");\n",
    "pythia.readString(\"23:onIfAny = 1 2 3 4 5\")\n",
    "# LEP1 initialization at Z0 mass.\n",
    "pythia.readString(\"Beams:idA =  11\")\n",
    "pythia.readString(\"Beams:idB = -11\")\n",
    "mZ = pythia.particleData.m0(23)\n",
    "pythia.settings.parm(\"Beams:eCM\", mZ)\n",
    "# parton level first\n",
    "pythia.readString(\"HadronLevel:all=off\")\n",
    "pythia.init()"
   ]
  },
  {
   "cell_type": "code",
   "execution_count": null,
   "id": "special-baltimore",
   "metadata": {},
   "outputs": [],
   "source": [
    "# print the banner first\n",
    "fj.ClusterSequence.print_banner()\n",
    "print()\n",
    "# set up our jet definition and a jet selector\n",
    "jet_R0 = 1.0\n",
    "jet_def = fj.JetDefinition(fj.antikt_algorithm, jet_R0)\n",
    "print(jet_def)"
   ]
  },
  {
   "cell_type": "code",
   "execution_count": null,
   "id": "weekly-florist",
   "metadata": {},
   "outputs": [],
   "source": [
    "# hadron level acceptamce\n",
    "max_eta_hadron = 10.\n",
    "from pyjetty.mputils import pwarning\n",
    "pwarning('max eta for particles after hadronization set to', max_eta_hadron)\n",
    "parts_selector_h = fj.SelectorAbsEtaMax(max_eta_hadron)\n",
    "jet_selector = fj.SelectorPtMin(1.0) & fj.SelectorPtMax(100.0) & fj.SelectorAbsEtaMax(max_eta_hadron - 1.05 * jet_R0)\n",
    "\n",
    "max_eta_parton = max_eta_hadron + 3. * jet_R0\n",
    "pwarning('max eta for partons set to', max_eta_parton)\n",
    "parts_selector_p = fj.SelectorAbsEtaMax(max_eta_parton)\n"
   ]
  },
  {
   "cell_type": "code",
   "execution_count": null,
   "id": "soviet-belfast",
   "metadata": {},
   "outputs": [],
   "source": [
    "#output\n",
    "outf = ROOT.TFile('lep_pythia8_out.root', 'recreate')\n",
    "outf.cd()\n",
    "t = ROOT.TTree('t', 't')\n",
    "from pyjetty.mputils import RTreeWriter\n",
    "tw = RTreeWriter(tree=t)\n",
    "hpt_parton = ROOT.TH1F('pt_parton_level', 'pt_parton_level', 50, 0, 50)\n",
    "hpt_hadron = ROOT.TH1F('pt_hadron_level', 'pt_hadron_level', 50, 0, 50)\n",
    "hpt_hadron.SetLineColor(3)"
   ]
  },
  {
   "cell_type": "code",
   "execution_count": null,
   "id": "enhanced-instruction",
   "metadata": {},
   "outputs": [],
   "source": [
    "# event loop\n",
    "nev = 10000\n",
    "import tqdm\n",
    "for iev in tqdm.tqdm(range(nev)):\n",
    "    if not pythia.next():\n",
    "        continue\n",
    "\n",
    "    #select particles\n",
    "    parts_pythia_p = pythiafjext.vectorize_select(pythia, [pythiafjext.kFinal], 0, True)\n",
    "    parts_pythia_p_selected = parts_selector_p(parts_pythia_p)\n",
    "\n",
    "    hstatus = pythia.forceHadronLevel()\n",
    "    if not hstatus:\n",
    "        pwarning('forceHadronLevel false event', iev)\n",
    "        continue\n",
    "    # parts_pythia_h = pythiafjext.vectorize_select(pythia, [pythiafjext.kHadron, pythiafjext.kCharged])\n",
    "    parts_pythia_h = pythiafjext.vectorize_select(pythia, [pythiafjext.kFinal], 0, True)\n",
    "    parts_pythia_h_selected = parts_selector_h(parts_pythia_h)\n",
    "\n",
    "    parts_pythia_hch = pythiafjext.vectorize_select(pythia, [pythiafjext.kFinal, pythiafjext.kCharged], 0, True)\n",
    "    parts_pythia_hch_selected = parts_selector_h(parts_pythia_hch)\n",
    "\n",
    "    # jet finder is just an extra - not needed for generation\n",
    "    jets_p = fj.sorted_by_pt(jet_def(parts_pythia_p))\n",
    "    jets_h = fj.sorted_by_pt(jet_def(parts_pythia_h))\n",
    "    jets_ch_h = fj.sorted_by_pt(jet_selector(jet_def(parts_pythia_hch)))\n",
    "\n",
    "    _c = [hpt_parton.Fill(j.perp()) for j in jets_p]\n",
    "    _c = [hpt_hadron.Fill(j.perp()) for j in jets_h]"
   ]
  },
  {
   "cell_type": "code",
   "execution_count": null,
   "id": "decimal-platinum",
   "metadata": {},
   "outputs": [],
   "source": [
    "pythia.stat()"
   ]
  },
  {
   "cell_type": "code",
   "execution_count": null,
   "id": "casual-mouth",
   "metadata": {},
   "outputs": [],
   "source": [
    "# %jsroot on\n",
    "canvas = ROOT.TCanvas(\"cpt\",\"cpt\",400,400)\n",
    "hpt_parton.Draw()\n",
    "hpt_hadron.Draw('same')\n",
    "canvas.SetLogy()\n",
    "canvas.BuildLegend()\n",
    "canvas.Draw()"
   ]
  },
  {
   "cell_type": "code",
   "execution_count": null,
   "id": "basic-thanksgiving",
   "metadata": {},
   "outputs": [],
   "source": [
    "outf.Write()\n",
    "outf.Close()"
   ]
  }
 ],
 "metadata": {
  "kernelspec": {
   "display_name": "Python 3",
   "language": "python",
   "name": "python3"
  },
  "language_info": {
   "codemirror_mode": {
    "name": "ipython",
    "version": 3
   },
   "file_extension": ".py",
   "mimetype": "text/x-python",
   "name": "python",
   "nbconvert_exporter": "python",
   "pygments_lexer": "ipython3",
   "version": "3.9.2"
  }
 },
 "nbformat": 4,
 "nbformat_minor": 5
}
