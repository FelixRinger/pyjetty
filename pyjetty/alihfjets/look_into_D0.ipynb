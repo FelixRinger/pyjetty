{
 "cells": [
  {
   "cell_type": "markdown",
   "metadata": {},
   "source": [
    "# Some useful pages\n",
    "- uproot https://uproot.readthedocs.io/en/latest/ and https://masonproffitt.github.io/uproot-tutorial/aio.html\n",
    "- pandas https://pandas.pydata.org/pandas-docs/stable/index.html\n",
    "- visualization of pandas https://pandas.pydata.org/pandas-docs/stable/user_guide/visualization.html\n",
    "- some more on notebooks https://www.dataquest.io/blog/advanced-jupyter-notebooks-tutorial/"
   ]
  },
  {
   "cell_type": "code",
   "execution_count": null,
   "metadata": {},
   "outputs": [],
   "source": [
    "import uproot\n",
    "import pandas as pd"
   ]
  },
  {
   "cell_type": "markdown",
   "metadata": {},
   "source": [
    "## open a file and get the trees...\n",
    "Take a file from pp at 5 TeV - grab a sample from https://sites.google.com/lbl.gov/alice-rnc/alice-data-on-hiccup?authuser=0\n",
    "Two trees need to be loaded / read\n",
    "- the event tree\n",
    "- the D0 candidates tree"
   ]
  },
  {
   "cell_type": "code",
   "execution_count": null,
   "metadata": {},
   "outputs": [],
   "source": [
    "input_file_name = \"/Users/ploskon/data/alice/LHC17pq/57/child_1/0003/AnalysisResults.root\"\n",
    "event_tree_name=\"PWGHF_TreeCreator/tree_event_char\"\n",
    "event_tree = uproot.open(input_file_name)[event_tree_name]\n",
    "\n",
    "event_df = event_tree.pandas.df(['run_number', 'ev_id', 'z_vtx_reco', 'is_ev_rej']).reset_index(drop=True)\n",
    "event_df = event_df.query('is_ev_rej == 0').reset_index(drop=True)\n",
    "event_df.describe()"
   ]
  },
  {
   "cell_type": "code",
   "execution_count": null,
   "metadata": {},
   "outputs": [],
   "source": [
    "d0_tree_name=\"PWGHF_TreeCreator/tree_D0\"\n",
    "d0_tree = uproot.open(input_file_name)[d0_tree_name]"
   ]
  },
  {
   "cell_type": "markdown",
   "metadata": {},
   "source": [
    "Now we list what are the branches in the D0 tree - one row per candidate..."
   ]
  },
  {
   "cell_type": "code",
   "execution_count": null,
   "metadata": {},
   "outputs": [],
   "source": [
    "d0_tree.keys()"
   ]
  },
  {
   "cell_type": "markdown",
   "metadata": {},
   "source": [
    "Now we merge the event pandas with the D0 candidate pandas - this will later allow to cut on vertex-z (stored only in the event tree)"
   ]
  },
  {
   "cell_type": "code",
   "execution_count": null,
   "metadata": {},
   "outputs": [],
   "source": [
    "d0_df = d0_tree.pandas.df()\n",
    "d0_df = pd.merge(d0_df, event_df, on=['run_number', 'ev_id'])"
   ]
  },
  {
   "cell_type": "code",
   "execution_count": null,
   "metadata": {},
   "outputs": [],
   "source": [
    "d0_df.describe()"
   ]
  },
  {
   "cell_type": "markdown",
   "metadata": {},
   "source": [
    "## Plot some...\n",
    "Of course we can import ROOT and do things with ROOT... here just a look into the data"
   ]
  },
  {
   "cell_type": "code",
   "execution_count": null,
   "metadata": {},
   "outputs": [],
   "source": [
    "%matplotlib inline\n",
    "import matplotlib.pyplot as plt\n",
    "plt.close('all')"
   ]
  },
  {
   "cell_type": "code",
   "execution_count": null,
   "metadata": {},
   "outputs": [],
   "source": [
    "d0_df.plot.hexbin(x='inv_mass', y='pt_cand', gridsize=150)"
   ]
  },
  {
   "cell_type": "code",
   "execution_count": null,
   "metadata": {},
   "outputs": [],
   "source": [
    "from pandas.plotting import scatter_matrix"
   ]
  },
  {
   "cell_type": "code",
   "execution_count": null,
   "metadata": {},
   "outputs": [],
   "source": [
    "scatter_matrix(d0_df[['inv_mass', 'pt_cand', 'dca']], alpha=0.2, figsize=(10, 10), diagonal='kde')"
   ]
  },
  {
   "cell_type": "markdown",
   "metadata": {},
   "source": [
    "## Plot some with seaborn"
   ]
  },
  {
   "cell_type": "code",
   "execution_count": null,
   "metadata": {},
   "outputs": [],
   "source": [
    "import seaborn as sns"
   ]
  },
  {
   "cell_type": "code",
   "execution_count": null,
   "metadata": {},
   "outputs": [],
   "source": [
    "sns.pairplot(d0_df[['inv_mass', 'dca', 'imp_par_prong0', 'imp_par_prong1']], diag_kind='kde')"
   ]
  },
  {
   "cell_type": "code",
   "execution_count": null,
   "metadata": {},
   "outputs": [],
   "source": [
    "sns.scatterplot(x=\"pt_cand\", y=\"inv_mass\", hue=\"cand_type\", data=d0_df);"
   ]
  },
  {
   "cell_type": "code",
   "execution_count": null,
   "metadata": {},
   "outputs": [],
   "source": []
  }
 ],
 "metadata": {
  "kernelspec": {
   "display_name": "Python 3",
   "language": "python",
   "name": "python3"
  },
  "language_info": {
   "codemirror_mode": {
    "name": "ipython",
    "version": 3
   },
   "file_extension": ".py",
   "mimetype": "text/x-python",
   "name": "python",
   "nbconvert_exporter": "python",
   "pygments_lexer": "ipython3",
   "version": "3.7.5"
  }
 },
 "nbformat": 4,
 "nbformat_minor": 4
}
