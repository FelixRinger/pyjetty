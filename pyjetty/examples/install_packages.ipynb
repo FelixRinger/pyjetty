{
 "cells": [
  {
   "cell_type": "code",
   "execution_count": 1,
   "id": "5ccd3796",
   "metadata": {},
   "outputs": [],
   "source": [
    "import sys"
   ]
  },
  {
   "cell_type": "code",
   "execution_count": 2,
   "id": "ca325307",
   "metadata": {},
   "outputs": [
    {
     "name": "stdout",
     "output_type": "stream",
     "text": [
      "Requirement already satisfied: numpy in /data/software/ploskon/heppy/venv/heppy-9eJ8HWuE/lib/python3.8/site-packages (1.21.2)\n",
      "Collecting uproot\n",
      "  Downloading uproot-4.1.3-py2.py3-none-any.whl (291 kB)\n",
      "\u001b[K     |████████████████████████████████| 291 kB 18.8 MB/s eta 0:00:01\n",
      "\u001b[?25hCollecting pandas\n",
      "  Downloading pandas-1.3.3-cp38-cp38-manylinux_2_17_x86_64.manylinux2014_x86_64.whl (11.5 MB)\n",
      "\u001b[K     |████████████████████████████████| 11.5 MB 49.2 MB/s eta 0:00:01\n",
      "\u001b[?25hRequirement already satisfied: tqdm in /data/software/ploskon/heppy/venv/heppy-9eJ8HWuE/lib/python3.8/site-packages (4.62.3)\n",
      "Requirement already satisfied: setuptools in /data/software/ploskon/heppy/venv/heppy-9eJ8HWuE/lib/python3.8/site-packages (from uproot) (44.0.0)\n",
      "Requirement already satisfied: python-dateutil>=2.7.3 in /data/software/ploskon/heppy/venv/heppy-9eJ8HWuE/lib/python3.8/site-packages (from pandas) (2.8.2)\n",
      "Collecting pytz>=2017.3\n",
      "  Downloading pytz-2021.3-py2.py3-none-any.whl (503 kB)\n",
      "\u001b[K     |████████████████████████████████| 503 kB 184.0 MB/s eta 0:00:01\n",
      "\u001b[?25hRequirement already satisfied: six>=1.5 in /data/software/ploskon/heppy/venv/heppy-9eJ8HWuE/lib/python3.8/site-packages (from python-dateutil>=2.7.3->pandas) (1.16.0)\n",
      "Installing collected packages: uproot, pytz, pandas\n",
      "Successfully installed pandas-1.3.3 pytz-2021.3 uproot-4.1.3\n"
     ]
    }
   ],
   "source": [
    "!{sys.executable} -m pip install numpy uproot pandas tqdm"
   ]
  },
  {
   "cell_type": "code",
   "execution_count": null,
   "id": "d30a3153",
   "metadata": {},
   "outputs": [],
   "source": []
  }
 ],
 "metadata": {
  "kernelspec": {
   "display_name": "Python 3 (ipykernel)",
   "language": "python",
   "name": "python3"
  },
  "language_info": {
   "codemirror_mode": {
    "name": "ipython",
    "version": 3
   },
   "file_extension": ".py",
   "mimetype": "text/x-python",
   "name": "python",
   "nbconvert_exporter": "python",
   "pygments_lexer": "ipython3",
   "version": "3.8.10"
  }
 },
 "nbformat": 4,
 "nbformat_minor": 5
}
