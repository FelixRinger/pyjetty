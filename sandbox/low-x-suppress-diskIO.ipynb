{
 "cells": [
  {
   "cell_type": "code",
   "execution_count": 1,
   "metadata": {},
   "outputs": [],
   "source": [
    "import joblib\n",
    "import math\n",
    "%matplotlib inline\n",
    "import matplotlib.pyplot as plt\n",
    "import seaborn as sns\n",
    "sns.set_context('notebook')\n",
    "plt.style.use('seaborn-whitegrid')\n",
    "import numpy as np\n",
    "import pandas as pd"
   ]
  },
  {
   "cell_type": "code",
   "execution_count": 2,
   "metadata": {},
   "outputs": [
    {
     "name": "stdout",
     "output_type": "stream",
     "text": [
      "CPU times: user 97 ms, sys: 26.6 ms, total: 124 ms\n",
      "Wall time: 129 ms\n"
     ]
    }
   ],
   "source": [
    "%%time\n",
    "jpd = joblib.load('jets_x1x2.data')"
   ]
  },
  {
   "cell_type": "code",
   "execution_count": 3,
   "metadata": {},
   "outputs": [
    {
     "data": {
      "text/html": [
       "<div>\n",
       "<style scoped>\n",
       "    .dataframe tbody tr th:only-of-type {\n",
       "        vertical-align: middle;\n",
       "    }\n",
       "\n",
       "    .dataframe tbody tr th {\n",
       "        vertical-align: top;\n",
       "    }\n",
       "\n",
       "    .dataframe thead th {\n",
       "        text-align: right;\n",
       "    }\n",
       "</style>\n",
       "<table border=\"1\" class=\"dataframe\">\n",
       "  <thead>\n",
       "    <tr style=\"text-align: right;\">\n",
       "      <th></th>\n",
       "      <th>pt</th>\n",
       "      <th>eta</th>\n",
       "      <th>x1</th>\n",
       "      <th>x2</th>\n",
       "      <th>id1</th>\n",
       "      <th>id2</th>\n",
       "      <th>pthat</th>\n",
       "    </tr>\n",
       "  </thead>\n",
       "  <tbody>\n",
       "    <tr>\n",
       "      <th>count</th>\n",
       "      <td>102228.000000</td>\n",
       "      <td>102228.000000</td>\n",
       "      <td>102228.000000</td>\n",
       "      <td>102228.000000</td>\n",
       "      <td>102228.000000</td>\n",
       "      <td>102228.000000</td>\n",
       "      <td>102228.000000</td>\n",
       "    </tr>\n",
       "    <tr>\n",
       "      <th>mean</th>\n",
       "      <td>20.898622</td>\n",
       "      <td>-0.002809</td>\n",
       "      <td>0.035180</td>\n",
       "      <td>0.035461</td>\n",
       "      <td>16.635628</td>\n",
       "      <td>16.619302</td>\n",
       "      <td>27.715749</td>\n",
       "    </tr>\n",
       "    <tr>\n",
       "      <th>std</th>\n",
       "      <td>9.435342</td>\n",
       "      <td>0.892537</td>\n",
       "      <td>0.058972</td>\n",
       "      <td>0.059548</td>\n",
       "      <td>8.452611</td>\n",
       "      <td>8.462746</td>\n",
       "      <td>10.195947</td>\n",
       "    </tr>\n",
       "    <tr>\n",
       "      <th>min</th>\n",
       "      <td>10.000478</td>\n",
       "      <td>-1.579957</td>\n",
       "      <td>0.000658</td>\n",
       "      <td>0.000712</td>\n",
       "      <td>-5.000000</td>\n",
       "      <td>-5.000000</td>\n",
       "      <td>19.771379</td>\n",
       "    </tr>\n",
       "    <tr>\n",
       "      <th>25%</th>\n",
       "      <td>15.473357</td>\n",
       "      <td>-0.760701</td>\n",
       "      <td>0.006648</td>\n",
       "      <td>0.006708</td>\n",
       "      <td>21.000000</td>\n",
       "      <td>21.000000</td>\n",
       "      <td>21.810295</td>\n",
       "    </tr>\n",
       "    <tr>\n",
       "      <th>50%</th>\n",
       "      <td>18.897347</td>\n",
       "      <td>-0.005513</td>\n",
       "      <td>0.015285</td>\n",
       "      <td>0.015410</td>\n",
       "      <td>21.000000</td>\n",
       "      <td>21.000000</td>\n",
       "      <td>24.500332</td>\n",
       "    </tr>\n",
       "    <tr>\n",
       "      <th>75%</th>\n",
       "      <td>23.486098</td>\n",
       "      <td>0.760151</td>\n",
       "      <td>0.034962</td>\n",
       "      <td>0.034938</td>\n",
       "      <td>21.000000</td>\n",
       "      <td>21.000000</td>\n",
       "      <td>29.769347</td>\n",
       "    </tr>\n",
       "    <tr>\n",
       "      <th>max</th>\n",
       "      <td>241.439596</td>\n",
       "      <td>1.579990</td>\n",
       "      <td>0.778321</td>\n",
       "      <td>0.806539</td>\n",
       "      <td>21.000000</td>\n",
       "      <td>21.000000</td>\n",
       "      <td>242.824398</td>\n",
       "    </tr>\n",
       "  </tbody>\n",
       "</table>\n",
       "</div>"
      ],
      "text/plain": [
       "                  pt            eta             x1             x2  \\\n",
       "count  102228.000000  102228.000000  102228.000000  102228.000000   \n",
       "mean       20.898622      -0.002809       0.035180       0.035461   \n",
       "std         9.435342       0.892537       0.058972       0.059548   \n",
       "min        10.000478      -1.579957       0.000658       0.000712   \n",
       "25%        15.473357      -0.760701       0.006648       0.006708   \n",
       "50%        18.897347      -0.005513       0.015285       0.015410   \n",
       "75%        23.486098       0.760151       0.034962       0.034938   \n",
       "max       241.439596       1.579990       0.778321       0.806539   \n",
       "\n",
       "                 id1            id2          pthat  \n",
       "count  102228.000000  102228.000000  102228.000000  \n",
       "mean       16.635628      16.619302      27.715749  \n",
       "std         8.452611       8.462746      10.195947  \n",
       "min        -5.000000      -5.000000      19.771379  \n",
       "25%        21.000000      21.000000      21.810295  \n",
       "50%        21.000000      21.000000      24.500332  \n",
       "75%        21.000000      21.000000      29.769347  \n",
       "max        21.000000      21.000000     242.824398  "
      ]
     },
     "execution_count": 3,
     "metadata": {},
     "output_type": "execute_result"
    },
    {
     "data": {
      "image/png": "[encoded data removed]",
      "text/plain": [
       "<Figure size 432x288 with 9 Axes>"
      ]
     },
     "metadata": {
      "needs_background": "light"
     },
     "output_type": "display_data"
    }
   ],
   "source": [
    "jpd.hist()\n",
    "jpd.describe()"
   ]
  },
  {
   "cell_type": "code",
   "execution_count": 4,
   "metadata": {},
   "outputs": [
    {
     "name": "stdout",
     "output_type": "stream",
     "text": [
      "CPU times: user 219 ms, sys: 18.1 ms, total: 237 ms\n",
      "Wall time: 242 ms\n"
     ]
    },
    {
     "data": {
      "text/plain": [
       "<Figure size 432x288 with 0 Axes>"
      ]
     },
     "metadata": {},
     "output_type": "display_data"
    },
    {
     "data": {
      "image/png": "[encoded data removed]",
      "text/plain": [
       "<Figure size 432x288 with 2 Axes>"
      ]
     },
     "metadata": {
      "needs_background": "light"
     },
     "output_type": "display_data"
    }
   ],
   "source": [
    "%%time\n",
    "fig = plt.figure()\n",
    "f, (ax1, ax2) = plt.subplots(1, 2)\n",
    "\n",
    "ax1.set_xlabel('x1')\n",
    "ax1.set_ylabel(r'$p_{T}^{\\rm{jet}}$')\n",
    "ax1.set_xscale('log')\n",
    "ax1.set_yscale('log')\n",
    "ax1.set_yscale('log')\n",
    "h1 = ax1.hist2d(jpd['x1'], jpd['pthat'], bins=(np.logspace(np.log10(1e-4),np.log10(1.0), 20), np.logspace(np.log10(20),np.log10(200), 40)), cmap='Blues')\n",
    "\n",
    "ax2.set_xlabel('x2')\n",
    "ax2.set_ylabel(r'$p_{T}^{\\rm{jet}}$')\n",
    "ax2.set_xscale('log')\n",
    "ax2.set_yscale('log')\n",
    "h2 = ax2.hist2d(jpd['x2'], jpd['pthat'], bins=(np.logspace(np.log10(1e-4),np.log10(1.0), 20), np.logspace(np.log10(20),np.log10(200), 40)), cmap='Blues')\n"
   ]
  },
  {
   "cell_type": "code",
   "execution_count": 5,
   "metadata": {},
   "outputs": [
    {
     "data": {
      "text/plain": [
       "<Figure size 432x288 with 0 Axes>"
      ]
     },
     "metadata": {},
     "output_type": "display_data"
    },
    {
     "data": {
      "image/png": "[encoded data removed]",
      "text/plain": [
       "<Figure size 432x288 with 1 Axes>"
      ]
     },
     "metadata": {
      "needs_background": "light"
     },
     "output_type": "display_data"
    }
   ],
   "source": [
    "fig2 = plt.figure()\n",
    "f, (ax11) = plt.subplots(1, 1)\n",
    "ax11.set_xlabel('x1')\n",
    "ax11.set_ylabel('x2')\n",
    "ax11.set_xscale('log')\n",
    "ax11.set_yscale('log')\n",
    "hx1x2 = ax11.hist2d(jpd['x2'], jpd['x2'], bins=(np.logspace(np.log10(1e-4),np.log10(1.0), 20), np.logspace(np.log10(1e-4),np.log10(1.0), 20)), cmap='Blues')\n"
   ]
  },
  {
   "cell_type": "code",
   "execution_count": 6,
   "metadata": {},
   "outputs": [],
   "source": [
    "high_x_jpd = jpd.loc[(jpd['x1'] > 0.01) & (jpd['x2'] > 0.01)]"
   ]
  },
  {
   "cell_type": "code",
   "execution_count": 7,
   "metadata": {},
   "outputs": [
    {
     "data": {
      "image/png": "[encoded data removed]",
      "text/plain": [
       "<Figure size 432x288 with 1 Axes>"
      ]
     },
     "metadata": {
      "needs_background": "light"
     },
     "output_type": "display_data"
    }
   ],
   "source": [
    "plt.yscale('log')\n",
    "b, x, ax = plt.hist(jpd['pt'], bins=19, alpha=0.3)\n",
    "b, x, ax = plt.hist(high_x_jpd['pt'], bins=19, alpha=1.0, histtype='step')"
   ]
  },
  {
   "cell_type": "code",
   "execution_count": 8,
   "metadata": {},
   "outputs": [],
   "source": [
    "ff = jpd\n",
    "gg = jpd.loc[(jpd['id1'] == 21) & (jpd['id2'] == 21)]\n",
    "qg = jpd.loc[(jpd['id1'] != 21) & (jpd['id2'] == 21)]\n",
    "gq = jpd.loc[(jpd['id1'] == 21) & (jpd['id2'] != 21)]\n",
    "qq = jpd.loc[(jpd['id1'] != 21) & (jpd['id2'] != 21)]"
   ]
  },
  {
   "cell_type": "code",
   "execution_count": 11,
   "metadata": {},
   "outputs": [
    {
     "data": {
      "text/plain": [
       "<matplotlib.legend.Legend at 0x1092ecef0>"
      ]
     },
     "execution_count": 11,
     "metadata": {},
     "output_type": "execute_result"
    },
    {
     "data": {
      "image/png": "[encoded data removed]",
      "text/plain": [
       "<Figure size 432x288 with 1 Axes>"
      ]
     },
     "metadata": {
      "needs_background": "light"
     },
     "output_type": "display_data"
    }
   ],
   "source": [
    "b, x, ax = plt.hist([ff['pt'], gg['pt'], qg['pt'], gq['pt'], qq['pt']], bins=10, alpha=1.0, histtype='step', label = ['ff', 'gg', 'qg', 'gq', 'qq'])\n",
    "plt.yscale('log')\n",
    "plt.legend()"
   ]
  },
  {
   "cell_type": "code",
   "execution_count": 18,
   "metadata": {},
   "outputs": [
    {
     "name": "stdout",
     "output_type": "stream",
     "text": [
      "[ 10.00047774  33.14438957  56.28830139  79.43221322 102.57612505\n",
      " 125.72003688 148.86394871 172.00786054 195.15177237 218.29568419\n",
      " 241.43959602]\n",
      "[array([9.4601e+04, 6.5980e+03, 7.5200e+02, 1.8200e+02, 6.1000e+01,\n",
      "       1.6000e+01, 6.0000e+00, 4.0000e+00, 6.0000e+00, 2.0000e+00]), array([5.9036e+04, 3.4480e+03, 3.1700e+02, 7.8000e+01, 2.2000e+01,\n",
      "       5.0000e+00, 0.0000e+00, 0.0000e+00, 2.0000e+00, 0.0000e+00]), array([1.5931e+04, 1.2800e+03, 1.6700e+02, 3.9000e+01, 9.0000e+00,\n",
      "       3.0000e+00, 1.0000e+00, 1.0000e+00, 0.0000e+00, 0.0000e+00]), array([1.5809e+04, 1.4240e+03, 1.9900e+02, 4.6000e+01, 2.2000e+01,\n",
      "       7.0000e+00, 2.0000e+00, 2.0000e+00, 4.0000e+00, 2.0000e+00]), array([3.825e+03, 4.460e+02, 6.900e+01, 1.900e+01, 8.000e+00, 1.000e+00,\n",
      "       3.000e+00, 1.000e+00, 0.000e+00, 0.000e+00])]\n",
      "<a list of 5 Lists of Patches objects>\n",
      "[9.4601e+04 6.5980e+03 7.5200e+02 1.8200e+02 6.1000e+01 1.6000e+01\n",
      " 6.0000e+00 4.0000e+00 6.0000e+00 2.0000e+00]\n",
      "[5.9036e+04 3.4480e+03 3.1700e+02 7.8000e+01 2.2000e+01 5.0000e+00\n",
      " 0.0000e+00 0.0000e+00 2.0000e+00 0.0000e+00]\n"
     ]
    }
   ],
   "source": [
    "print(x)\n",
    "print(b)\n",
    "print(ax)\n",
    "print(b[0])\n",
    "print(b[1])\n"
   ]
  },
  {
   "cell_type": "code",
   "execution_count": null,
   "metadata": {},
   "outputs": [],
   "source": []
  }
 ],
 "metadata": {
  "kernelspec": {
   "display_name": "Python 3",
   "language": "python",
   "name": "python3"
  },
  "language_info": {
   "codemirror_mode": {
    "name": "ipython",
    "version": 3
   },
   "file_extension": ".py",
   "mimetype": "text/x-python",
   "name": "python",
   "nbconvert_exporter": "python",
   "pygments_lexer": "ipython3",
   "version": "3.7.3"
  }
 },
 "nbformat": 4,
 "nbformat_minor": 2
}
