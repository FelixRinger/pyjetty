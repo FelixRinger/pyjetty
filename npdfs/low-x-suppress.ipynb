{
 "cells": [
  {
   "cell_type": "code",
   "execution_count": 1,
   "metadata": {},
   "outputs": [],
   "source": [
    "import fastjet as fj\n",
    "import pythia8\n",
    "from pythiafjtools import pypythiafjtools as pyfj\n",
    "from lundplane import pylundplane as lund\n",
    "from mptools import pymptools as mpt\n",
    "from tqdm import tqdm\n",
    "import math\n",
    "%matplotlib inline\n",
    "import matplotlib.pyplot as plt\n",
    "import seaborn as sns\n",
    "sns.set_context('notebook')\n",
    "plt.style.use('seaborn-whitegrid')\n",
    "# %config InlineBackend.figure_format = 'retina'\n",
    "from tqdm import tnrange, tqdm_notebook\n",
    "import os\n",
    "import re\n",
    "import numpy as np\n",
    "import pandas as pd"
   ]
  },
  {
   "cell_type": "code",
   "execution_count": 2,
   "metadata": {},
   "outputs": [],
   "source": [
    "def create_and_init_pythia(config_strings=[]):\n",
    "\tpythia = pythia8.Pythia()\n",
    "\tfor s in config_strings:\n",
    "\t\tpythia.readString(s)\n",
    "\tfor extra_s in [\"Next:numberShowEvent = 0\", \"Next:numberShowInfo = 0\", \"Next:numberShowProcess = 0\"]:\n",
    "\t\tpythia.readString(extra_s)\n",
    "\tif pythia.init():\n",
    "\t\treturn pythia\n",
    "\treturn None\n"
   ]
  },
  {
   "cell_type": "code",
   "execution_count": 62,
   "metadata": {},
   "outputs": [
    {
     "name": "stdout",
     "output_type": "stream",
     "text": [
      "\n"
     ]
    }
   ],
   "source": [
    "sconfig_pythia_w = [\"Beams:eCM = 5000.\", \"HardQCD:all = on\",\n",
    "                    \"PartonLevel:ISR = off\",\n",
    "                    \"PartonLevel:MPI = off\",\n",
    "                    \"PhaseSpace:bias2Selection=on\",\n",
    "                    \"PhaseSpace:bias2SelectionPow=4\",\n",
    "                    \"PhaseSpace:bias2SelectionRef=50\"]\n",
    "sconfig_pythia = [\"Beams:eCM = 5000.\", \"HardQCD:all = on\",\n",
    "                    \"PartonLevel:ISR = off\",\n",
    "                    \"PartonLevel:MPI = off\",\n",
    "                    \"PhaseSpace:pThatMin = 20\"]\n",
    "pythia = create_and_init_pythia(sconfig_pythia)\n",
    "\n",
    "# print the banner first\n",
    "fj.ClusterSequence.print_banner()\n",
    "print()\n",
    "# set up our jet definition and a jet selector\n",
    "jet_R0 = 0.4\n",
    "jet_def = fj.JetDefinition(fj.antikt_algorithm, jet_R0)\n",
    "jet_selector = fj.SelectorPtMin(10.0) & fj.SelectorAbsEtaMax(2 - jet_R0 * 1.05)\n"
   ]
  },
  {
   "cell_type": "code",
   "execution_count": 63,
   "metadata": {},
   "outputs": [
    {
     "data": {
      "application/vnd.jupyter.widget-view+json": {
       "model_id": "57fcb18cb143400fa7b4457458ab3230",
       "version_major": 2,
       "version_minor": 0
      },
      "text/plain": [
       "HBox(children=(IntProgress(value=0, description='event', max=10000, style=ProgressStyle(description_width='ini…"
      ]
     },
     "metadata": {},
     "output_type": "display_data"
    },
    {
     "name": "stdout",
     "output_type": "stream",
     "text": [
      "\n"
     ]
    }
   ],
   "source": [
    "all_jets = []\n",
    "x1 = []\n",
    "x2 = []\n",
    "id1 = []\n",
    "id2 = []\n",
    "pthat = []\n",
    "ijet = 0\n",
    "for iEvent in tqdm_notebook(range(10000), 'event'):\n",
    "    if not pythia.next(): continue\n",
    "    parts = pyfj.vectorize(pythia, True, -10, 10, False)\n",
    "    jets = jet_selector(jet_def(parts))\n",
    "    all_jets.extend(jets)\n",
    "    _x1 = pythia.info.x1()\n",
    "    _x2 = pythia.info.x2()\n",
    "    _id1 = pythia.info.id1()\n",
    "    _id2 = pythia.info.id2()\n",
    "    _pthat = pythia.info.pTHat()\n",
    "    x1.extend([_x1 for j in jets])\n",
    "    x2.extend([_x2 for j in jets])\n",
    "    id1.extend([_id1 for j in jets])\n",
    "    id2.extend([_id2 for j in jets])\n",
    "    pthat.extend([_pthat for j in jets])\n"
   ]
  },
  {
   "cell_type": "code",
   "execution_count": 64,
   "metadata": {},
   "outputs": [],
   "source": [
    "pts = [j.pt() for j in all_jets]\n",
    "etas = [j.eta() for j in all_jets]"
   ]
  },
  {
   "cell_type": "code",
   "execution_count": 65,
   "metadata": {},
   "outputs": [],
   "source": [
    "jpd = pd.DataFrame({'pt' : pts, 'eta' : etas, 'x1' : x1, 'x2' : x2, 'id1' : id1, 'id2' : id2, 'pthat' : pthat})"
   ]
  },
  {
   "cell_type": "code",
   "execution_count": 66,
   "metadata": {},
   "outputs": [
    {
     "data": {
      "text/plain": [
       "array([[<matplotlib.axes._subplots.AxesSubplot object at 0x129548fd0>,\n",
       "        <matplotlib.axes._subplots.AxesSubplot object at 0x1434495c0>,\n",
       "        <matplotlib.axes._subplots.AxesSubplot object at 0x13cd10e10>],\n",
       "       [<matplotlib.axes._subplots.AxesSubplot object at 0x1435c67f0>,\n",
       "        <matplotlib.axes._subplots.AxesSubplot object at 0x1435fd1d0>,\n",
       "        <matplotlib.axes._subplots.AxesSubplot object at 0x143627b70>],\n",
       "       [<matplotlib.axes._subplots.AxesSubplot object at 0x14365e550>,\n",
       "        <matplotlib.axes._subplots.AxesSubplot object at 0x143689f28>,\n",
       "        <matplotlib.axes._subplots.AxesSubplot object at 0x143689f60>]],\n",
       "      dtype=object)"
      ]
     },
     "execution_count": 66,
     "metadata": {},
     "output_type": "execute_result"
    },
    {
     "data": {
      "image/png": "[encoded data removed]",
      "text/plain": [
       "<Figure size 432x288 with 9 Axes>"
      ]
     },
     "metadata": {
      "needs_background": "light"
     },
     "output_type": "display_data"
    }
   ],
   "source": [
    "jpd.hist()"
   ]
  },
  {
   "cell_type": "code",
   "execution_count": 67,
   "metadata": {},
   "outputs": [
    {
     "data": {
      "text/html": [
       "<div>\n",
       "<style scoped>\n",
       "    .dataframe tbody tr th:only-of-type {\n",
       "        vertical-align: middle;\n",
       "    }\n",
       "\n",
       "    .dataframe tbody tr th {\n",
       "        vertical-align: top;\n",
       "    }\n",
       "\n",
       "    .dataframe thead th {\n",
       "        text-align: right;\n",
       "    }\n",
       "</style>\n",
       "<table border=\"1\" class=\"dataframe\">\n",
       "  <thead>\n",
       "    <tr style=\"text-align: right;\">\n",
       "      <th></th>\n",
       "      <th>pt</th>\n",
       "      <th>eta</th>\n",
       "      <th>x1</th>\n",
       "      <th>x2</th>\n",
       "      <th>id1</th>\n",
       "      <th>id2</th>\n",
       "      <th>pthat</th>\n",
       "    </tr>\n",
       "  </thead>\n",
       "  <tbody>\n",
       "    <tr>\n",
       "      <th>0</th>\n",
       "      <td>60.761189</td>\n",
       "      <td>-0.702540</td>\n",
       "      <td>0.081539</td>\n",
       "      <td>0.029138</td>\n",
       "      <td>21</td>\n",
       "      <td>21</td>\n",
       "      <td>67.392764</td>\n",
       "    </tr>\n",
       "    <tr>\n",
       "      <th>1</th>\n",
       "      <td>16.489137</td>\n",
       "      <td>-1.359313</td>\n",
       "      <td>0.099699</td>\n",
       "      <td>0.022415</td>\n",
       "      <td>1</td>\n",
       "      <td>21</td>\n",
       "      <td>31.780276</td>\n",
       "    </tr>\n",
       "    <tr>\n",
       "      <th>2</th>\n",
       "      <td>10.479643</td>\n",
       "      <td>-0.336069</td>\n",
       "      <td>0.099699</td>\n",
       "      <td>0.022415</td>\n",
       "      <td>1</td>\n",
       "      <td>21</td>\n",
       "      <td>31.780276</td>\n",
       "    </tr>\n",
       "    <tr>\n",
       "      <th>3</th>\n",
       "      <td>20.134077</td>\n",
       "      <td>1.153677</td>\n",
       "      <td>0.018383</td>\n",
       "      <td>0.082147</td>\n",
       "      <td>21</td>\n",
       "      <td>21</td>\n",
       "      <td>26.328192</td>\n",
       "    </tr>\n",
       "    <tr>\n",
       "      <th>4</th>\n",
       "      <td>21.468429</td>\n",
       "      <td>-1.573240</td>\n",
       "      <td>0.004116</td>\n",
       "      <td>0.032589</td>\n",
       "      <td>21</td>\n",
       "      <td>-1</td>\n",
       "      <td>25.247961</td>\n",
       "    </tr>\n",
       "  </tbody>\n",
       "</table>\n",
       "</div>"
      ],
      "text/plain": [
       "          pt       eta        x1        x2  id1  id2      pthat\n",
       "0  60.761189 -0.702540  0.081539  0.029138   21   21  67.392764\n",
       "1  16.489137 -1.359313  0.099699  0.022415    1   21  31.780276\n",
       "2  10.479643 -0.336069  0.099699  0.022415    1   21  31.780276\n",
       "3  20.134077  1.153677  0.018383  0.082147   21   21  26.328192\n",
       "4  21.468429 -1.573240  0.004116  0.032589   21   -1  25.247961"
      ]
     },
     "execution_count": 67,
     "metadata": {},
     "output_type": "execute_result"
    }
   ],
   "source": [
    "jpd.head()"
   ]
  },
  {
   "cell_type": "code",
   "execution_count": 68,
   "metadata": {},
   "outputs": [
    {
     "data": {
      "text/html": [
       "<div>\n",
       "<style scoped>\n",
       "    .dataframe tbody tr th:only-of-type {\n",
       "        vertical-align: middle;\n",
       "    }\n",
       "\n",
       "    .dataframe tbody tr th {\n",
       "        vertical-align: top;\n",
       "    }\n",
       "\n",
       "    .dataframe thead th {\n",
       "        text-align: right;\n",
       "    }\n",
       "</style>\n",
       "<table border=\"1\" class=\"dataframe\">\n",
       "  <thead>\n",
       "    <tr style=\"text-align: right;\">\n",
       "      <th></th>\n",
       "      <th>pt</th>\n",
       "      <th>eta</th>\n",
       "      <th>x1</th>\n",
       "      <th>x2</th>\n",
       "      <th>id1</th>\n",
       "      <th>id2</th>\n",
       "      <th>pthat</th>\n",
       "    </tr>\n",
       "  </thead>\n",
       "  <tbody>\n",
       "    <tr>\n",
       "      <th>count</th>\n",
       "      <td>10199.000000</td>\n",
       "      <td>10199.000000</td>\n",
       "      <td>10199.000000</td>\n",
       "      <td>10199.000000</td>\n",
       "      <td>10199.000000</td>\n",
       "      <td>10199.000000</td>\n",
       "      <td>10199.000000</td>\n",
       "    </tr>\n",
       "    <tr>\n",
       "      <th>mean</th>\n",
       "      <td>20.854044</td>\n",
       "      <td>-0.010325</td>\n",
       "      <td>0.035246</td>\n",
       "      <td>0.036083</td>\n",
       "      <td>16.673399</td>\n",
       "      <td>16.535249</td>\n",
       "      <td>27.634485</td>\n",
       "    </tr>\n",
       "    <tr>\n",
       "      <th>std</th>\n",
       "      <td>8.799181</td>\n",
       "      <td>0.900428</td>\n",
       "      <td>0.059519</td>\n",
       "      <td>0.060738</td>\n",
       "      <td>8.424422</td>\n",
       "      <td>8.517768</td>\n",
       "      <td>9.618146</td>\n",
       "    </tr>\n",
       "    <tr>\n",
       "      <th>min</th>\n",
       "      <td>10.001088</td>\n",
       "      <td>-1.578583</td>\n",
       "      <td>0.000860</td>\n",
       "      <td>0.000797</td>\n",
       "      <td>-5.000000</td>\n",
       "      <td>-5.000000</td>\n",
       "      <td>19.772683</td>\n",
       "    </tr>\n",
       "    <tr>\n",
       "      <th>25%</th>\n",
       "      <td>15.545453</td>\n",
       "      <td>-0.775934</td>\n",
       "      <td>0.006631</td>\n",
       "      <td>0.006685</td>\n",
       "      <td>21.000000</td>\n",
       "      <td>21.000000</td>\n",
       "      <td>21.867966</td>\n",
       "    </tr>\n",
       "    <tr>\n",
       "      <th>50%</th>\n",
       "      <td>19.006468</td>\n",
       "      <td>-0.015238</td>\n",
       "      <td>0.014936</td>\n",
       "      <td>0.015539</td>\n",
       "      <td>21.000000</td>\n",
       "      <td>21.000000</td>\n",
       "      <td>24.545419</td>\n",
       "    </tr>\n",
       "    <tr>\n",
       "      <th>75%</th>\n",
       "      <td>23.542672</td>\n",
       "      <td>0.765444</td>\n",
       "      <td>0.034902</td>\n",
       "      <td>0.035451</td>\n",
       "      <td>21.000000</td>\n",
       "      <td>21.000000</td>\n",
       "      <td>29.715012</td>\n",
       "    </tr>\n",
       "    <tr>\n",
       "      <th>max</th>\n",
       "      <td>118.545740</td>\n",
       "      <td>1.579342</td>\n",
       "      <td>0.697544</td>\n",
       "      <td>0.665371</td>\n",
       "      <td>21.000000</td>\n",
       "      <td>21.000000</td>\n",
       "      <td>150.213885</td>\n",
       "    </tr>\n",
       "  </tbody>\n",
       "</table>\n",
       "</div>"
      ],
      "text/plain": [
       "                 pt           eta            x1            x2           id1  \\\n",
       "count  10199.000000  10199.000000  10199.000000  10199.000000  10199.000000   \n",
       "mean      20.854044     -0.010325      0.035246      0.036083     16.673399   \n",
       "std        8.799181      0.900428      0.059519      0.060738      8.424422   \n",
       "min       10.001088     -1.578583      0.000860      0.000797     -5.000000   \n",
       "25%       15.545453     -0.775934      0.006631      0.006685     21.000000   \n",
       "50%       19.006468     -0.015238      0.014936      0.015539     21.000000   \n",
       "75%       23.542672      0.765444      0.034902      0.035451     21.000000   \n",
       "max      118.545740      1.579342      0.697544      0.665371     21.000000   \n",
       "\n",
       "                id2         pthat  \n",
       "count  10199.000000  10199.000000  \n",
       "mean      16.535249     27.634485  \n",
       "std        8.517768      9.618146  \n",
       "min       -5.000000     19.772683  \n",
       "25%       21.000000     21.867966  \n",
       "50%       21.000000     24.545419  \n",
       "75%       21.000000     29.715012  \n",
       "max       21.000000    150.213885  "
      ]
     },
     "execution_count": 68,
     "metadata": {},
     "output_type": "execute_result"
    }
   ],
   "source": [
    "jpd.describe()"
   ]
  },
  {
   "cell_type": "code",
   "execution_count": 69,
   "metadata": {},
   "outputs": [
    {
     "data": {
      "text/plain": [
       "Text(0, 0.5, '$p_{T}^{\\\\rm{jet}}$')"
      ]
     },
     "execution_count": 69,
     "metadata": {},
     "output_type": "execute_result"
    },
    {
     "data": {
      "text/plain": [
       "<Figure size 432x288 with 0 Axes>"
      ]
     },
     "metadata": {},
     "output_type": "display_data"
    },
    {
     "data": {
      "image/png": "[encoded data removed]",
      "text/plain": [
       "<Figure size 432x288 with 2 Axes>"
      ]
     },
     "metadata": {
      "needs_background": "light"
     },
     "output_type": "display_data"
    }
   ],
   "source": [
    "x1a = np.array(x1)\n",
    "fig = plt.figure()\n",
    "f, (ax0, ax1) = plt.subplots(1, 2)\n",
    "ax0.set_xscale('log')\n",
    "ax0.set_xlabel('x2')\n",
    "ax0.set_ylabel(r'$p_{T}^{\\rm{jet}}$')\n",
    "h0 = ax0.hist2d(x1, pthat, bins=(np.logspace(np.log10(1e-4),np.log10(1.0), 20), 20), cmap='Blues')\n",
    "ax1.set_xscale('log')\n",
    "h1 = ax1.hist2d(x2, pthat, bins=(np.logspace(np.log10(1e-4),np.log10(1.0), 20), 20), cmap='Blues', label=\"pT vs x2\")\n",
    "ax1.set_xlabel('x1')\n",
    "ax1.set_ylabel(r'$p_{T}^{\\rm{jet}}$')\n"
   ]
  },
  {
   "cell_type": "code",
   "execution_count": 107,
   "metadata": {},
   "outputs": [
    {
     "data": {
      "image/png": "[encoded data removed]",
      "text/plain": [
       "<Figure size 432x288 with 1 Axes>"
      ]
     },
     "metadata": {
      "needs_background": "light"
     },
     "output_type": "display_data"
    }
   ],
   "source": [
    "import pylab as pl\n",
    "pl.hist(x1, bins=np.logspace(np.log10(1e-4),np.log10(1.0), 100), alpha=0.3)\n",
    "pl.hist([xtmp for xtmp in x1 if xtmp < 0.01], bins=np.logspace(np.log10(1e-4),np.log10(1.0), 100), alpha=0.3)\n",
    "pl.gca().set_xscale(\"log\")\n",
    "pl.show()"
   ]
  },
  {
   "cell_type": "code",
   "execution_count": 110,
   "metadata": {},
   "outputs": [
    {
     "data": {
      "image/png": "[encoded data removed]",
      "text/plain": [
       "<Figure size 432x288 with 2 Axes>"
      ]
     },
     "metadata": {
      "needs_background": "light"
     },
     "output_type": "display_data"
    }
   ],
   "source": [
    "polys = plt.hexbin(x1, x2, gridsize=40, cmap='Blues')\n",
    "cb = plt.colorbar()\n",
    "cb.set_label('counts in bin')"
   ]
  },
  {
   "cell_type": "code",
   "execution_count": 111,
   "metadata": {},
   "outputs": [
    {
     "data": {
      "text/html": [
       "<div>\n",
       "<style scoped>\n",
       "    .dataframe tbody tr th:only-of-type {\n",
       "        vertical-align: middle;\n",
       "    }\n",
       "\n",
       "    .dataframe tbody tr th {\n",
       "        vertical-align: top;\n",
       "    }\n",
       "\n",
       "    .dataframe thead th {\n",
       "        text-align: right;\n",
       "    }\n",
       "</style>\n",
       "<table border=\"1\" class=\"dataframe\">\n",
       "  <thead>\n",
       "    <tr style=\"text-align: right;\">\n",
       "      <th></th>\n",
       "      <th>pt</th>\n",
       "      <th>eta</th>\n",
       "      <th>x1</th>\n",
       "      <th>x2</th>\n",
       "      <th>id1</th>\n",
       "      <th>id2</th>\n",
       "      <th>pthat</th>\n",
       "    </tr>\n",
       "  </thead>\n",
       "  <tbody>\n",
       "    <tr>\n",
       "      <th>count</th>\n",
       "      <td>2795.000000</td>\n",
       "      <td>2795.000000</td>\n",
       "      <td>2795.000000</td>\n",
       "      <td>2795.000000</td>\n",
       "      <td>2795.000000</td>\n",
       "      <td>2795.000000</td>\n",
       "      <td>2795.000000</td>\n",
       "    </tr>\n",
       "    <tr>\n",
       "      <th>mean</th>\n",
       "      <td>23.784301</td>\n",
       "      <td>-0.024082</td>\n",
       "      <td>0.036127</td>\n",
       "      <td>0.033576</td>\n",
       "      <td>16.093739</td>\n",
       "      <td>16.601431</td>\n",
       "      <td>32.117598</td>\n",
       "    </tr>\n",
       "    <tr>\n",
       "      <th>std</th>\n",
       "      <td>12.121028</td>\n",
       "      <td>0.963964</td>\n",
       "      <td>0.052786</td>\n",
       "      <td>0.047448</td>\n",
       "      <td>8.855991</td>\n",
       "      <td>8.491732</td>\n",
       "      <td>13.844700</td>\n",
       "    </tr>\n",
       "    <tr>\n",
       "      <th>min</th>\n",
       "      <td>10.001558</td>\n",
       "      <td>-1.577909</td>\n",
       "      <td>0.010005</td>\n",
       "      <td>0.010001</td>\n",
       "      <td>-5.000000</td>\n",
       "      <td>-5.000000</td>\n",
       "      <td>20.002593</td>\n",
       "    </tr>\n",
       "    <tr>\n",
       "      <th>25%</th>\n",
       "      <td>16.180883</td>\n",
       "      <td>-0.916385</td>\n",
       "      <td>0.013371</td>\n",
       "      <td>0.013318</td>\n",
       "      <td>21.000000</td>\n",
       "      <td>21.000000</td>\n",
       "      <td>23.326621</td>\n",
       "    </tr>\n",
       "    <tr>\n",
       "      <th>50%</th>\n",
       "      <td>20.674274</td>\n",
       "      <td>-0.075334</td>\n",
       "      <td>0.018618</td>\n",
       "      <td>0.018593</td>\n",
       "      <td>21.000000</td>\n",
       "      <td>21.000000</td>\n",
       "      <td>27.735477</td>\n",
       "    </tr>\n",
       "    <tr>\n",
       "      <th>75%</th>\n",
       "      <td>27.473892</td>\n",
       "      <td>0.865531</td>\n",
       "      <td>0.034268</td>\n",
       "      <td>0.031422</td>\n",
       "      <td>21.000000</td>\n",
       "      <td>21.000000</td>\n",
       "      <td>35.188440</td>\n",
       "    </tr>\n",
       "    <tr>\n",
       "      <th>max</th>\n",
       "      <td>118.545740</td>\n",
       "      <td>1.579342</td>\n",
       "      <td>0.560593</td>\n",
       "      <td>0.578761</td>\n",
       "      <td>21.000000</td>\n",
       "      <td>21.000000</td>\n",
       "      <td>150.213885</td>\n",
       "    </tr>\n",
       "  </tbody>\n",
       "</table>\n",
       "</div>"
      ],
      "text/plain": [
       "                pt          eta           x1           x2          id1  \\\n",
       "count  2795.000000  2795.000000  2795.000000  2795.000000  2795.000000   \n",
       "mean     23.784301    -0.024082     0.036127     0.033576    16.093739   \n",
       "std      12.121028     0.963964     0.052786     0.047448     8.855991   \n",
       "min      10.001558    -1.577909     0.010005     0.010001    -5.000000   \n",
       "25%      16.180883    -0.916385     0.013371     0.013318    21.000000   \n",
       "50%      20.674274    -0.075334     0.018618     0.018593    21.000000   \n",
       "75%      27.473892     0.865531     0.034268     0.031422    21.000000   \n",
       "max     118.545740     1.579342     0.560593     0.578761    21.000000   \n",
       "\n",
       "               id2        pthat  \n",
       "count  2795.000000  2795.000000  \n",
       "mean     16.601431    32.117598  \n",
       "std       8.491732    13.844700  \n",
       "min      -5.000000    20.002593  \n",
       "25%      21.000000    23.326621  \n",
       "50%      21.000000    27.735477  \n",
       "75%      21.000000    35.188440  \n",
       "max      21.000000   150.213885  "
      ]
     },
     "execution_count": 111,
     "metadata": {},
     "output_type": "execute_result"
    },
    {
     "data": {
      "image/png": "[encoded data removed]",
      "text/plain": [
       "<Figure size 432x288 with 1 Axes>"
      ]
     },
     "metadata": {
      "needs_background": "light"
     },
     "output_type": "display_data"
    }
   ],
   "source": [
    "plt.yscale(\"log\")\n",
    "high_x_jpd = jpd.loc[(jpd['x1'] > 0.01) & (jpd['x2'] > 0.01)]\n",
    "high_x_jpd.describe()"
   ]
  },
  {
   "cell_type": "code",
   "execution_count": 112,
   "metadata": {},
   "outputs": [],
   "source": [
    "all_jets_pt = jpd['pt']\n",
    "high_x_all_jets_pt = high_x_jpd['pt']"
   ]
  },
  {
   "cell_type": "code",
   "execution_count": 113,
   "metadata": {},
   "outputs": [
    {
     "data": {
      "text/plain": [
       "10199"
      ]
     },
     "execution_count": 113,
     "metadata": {},
     "output_type": "execute_result"
    },
    {
     "data": {
      "image/png": "[encoded data removed]",
      "text/plain": [
       "<Figure size 432x288 with 1 Axes>"
      ]
     },
     "metadata": {
      "needs_background": "light"
     },
     "output_type": "display_data"
    }
   ],
   "source": [
    "plt.yscale('log')\n",
    "b, x, ax = plt.hist(all_jets_pt, bins=19, alpha=0.3)\n",
    "b, x, ax = plt.hist(high_x_all_jets_pt, bins=19, alpha=1.0, histtype='step')\n",
    "len(all_jets)"
   ]
  },
  {
   "cell_type": "code",
   "execution_count": 73,
   "metadata": {},
   "outputs": [
    {
     "data": {
      "image/png": "[encoded data removed]",
      "text/plain": [
       "<Figure size 432x288 with 2 Axes>"
      ]
     },
     "metadata": {
      "needs_background": "light"
     },
     "output_type": "display_data"
    }
   ],
   "source": [
    "polys = plt.hexbin([j.pt() for j in all_jets], [j.eta() for j in all_jets], gridsize=40, cmap='Blues')\n",
    "cb = plt.colorbar()\n",
    "cb.set_label('counts in bin')"
   ]
  },
  {
   "cell_type": "code",
   "execution_count": null,
   "metadata": {},
   "outputs": [],
   "source": []
  },
  {
   "cell_type": "code",
   "execution_count": null,
   "metadata": {},
   "outputs": [],
   "source": []
  },
  {
   "cell_type": "code",
   "execution_count": null,
   "metadata": {},
   "outputs": [],
   "source": []
  }
 ],
 "metadata": {
  "kernelspec": {
   "display_name": "Python 3",
   "language": "python",
   "name": "python3"
  },
  "language_info": {
   "codemirror_mode": {
    "name": "ipython",
    "version": 3
   },
   "file_extension": ".py",
   "mimetype": "text/x-python",
   "name": "python",
   "nbconvert_exporter": "python",
   "pygments_lexer": "ipython3",
   "version": "3.7.3"
  }
 },
 "nbformat": 4,
 "nbformat_minor": 2
}
